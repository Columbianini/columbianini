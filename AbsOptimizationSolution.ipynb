{
 "cells": [
  {
   "cell_type": "markdown",
   "metadata": {},
   "source": [
    "# $$ 0.\\quad Data \\quad Input $$"
   ]
  },
  {
   "cell_type": "code",
   "execution_count": 1,
   "metadata": {},
   "outputs": [],
   "source": [
    "import sys\n",
    "from gurobipy import *\n",
    "from myMatrixLpSolver import lp_optimize\n",
    "import numpy as np\n",
    "f = open('dataLR.txt', 'r')\n",
    "N=10000\n",
    "C=10\n",
    "x = [[0 for j in range(C)] for i in range(N)] \n",
    "y = [0 for i in range(N)] \n",
    "# Loop over lines and extract variables of interest\n",
    "i=-1\n",
    "for line in f:\n",
    "\t\ti=i+1\n",
    "\t\tline = line.strip()\n",
    "\t\tcolumns = line.split(',')\n",
    "\t\ty[i]=float(columns[0])\n",
    "\t\tfor j in range(0,10):\n",
    "\t\t\tx[i][j] = float(columns[j+1])\n",
    "\n",
    "f.close()\n",
    "\n",
    "x = np.array(x)\n",
    "y = np.array(y)"
   ]
  },
  {
   "cell_type": "code",
   "execution_count": 7,
   "metadata": {},
   "outputs": [
    {
     "data": {
      "text/plain": [
       "((10000, 10), (10000,))"
      ]
     },
     "execution_count": 7,
     "metadata": {},
     "output_type": "execute_result"
    }
   ],
   "source": [
    "x.shape, y.shape"
   ]
  },
  {
   "cell_type": "markdown",
   "metadata": {},
   "source": [
    "# $$ 1.\\quad min\\quad max\\quad|y_i −w_Tx_i −b|$$"
   ]
  },
  {
   "cell_type": "code",
   "execution_count": 10,
   "metadata": {},
   "outputs": [
    {
     "name": "stdout",
     "output_type": "stream",
     "text": [
      "Optimize a model with 20000 rows, 12 columns and 237130 nonzeros\n",
      "Coefficient statistics:\n",
      "  Matrix range     [1e+00, 1e+02]\n",
      "  Objective range  [1e+00, 1e+00]\n",
      "  Bounds range     [0e+00, 0e+00]\n",
      "  RHS range        [6e+00, 2e+04]\n",
      "Presolve time: 0.08s\n",
      "Presolved: 12 rows, 20000 columns, 237130 nonzeros\n",
      "\n",
      "Iteration    Objective       Primal Inf.    Dual Inf.      Time\n",
      "       0   -0.0000000e+00   4.000000e+00   6.713220e+09      0s\n",
      "     242    5.0000000e+01   0.000000e+00   0.000000e+00      0s\n",
      "\n",
      "Solved in 242 iterations and 0.12 seconds\n",
      "Optimal objective  5.000000000e+01\n",
      "omega:\n",
      "[-2.66171867e-13 -1.20000000e+01  2.80000000e+01 -2.50000000e+01\n",
      "  6.00000000e+00  2.10000000e+01  6.40000000e+01  3.60000000e+01\n",
      "  1.00000000e+02  7.70000000e+01]\n"
     ]
    }
   ],
   "source": [
    "#Primal\n",
    "# Put model data into matrices/vectors and call lp_optimize\n",
    "# Questions 1(a)\n",
    "rows = 20000\n",
    "cols = 12\n",
    "#Construct A\n",
    "c = np.zeros(12)\n",
    "c[0] = 1\n",
    "obj_sense = GRB.MINIMIZE\n",
    "sense = [GRB.GREATER_EQUAL for i in range(rows)]\n",
    "lb = [-GRB.INFINITY for i in range(cols)]\n",
    "ub = [GRB.INFINITY for i in range(cols)]\n",
    "vtype = [GRB.CONTINUOUS for i in range(cols)]\n",
    "solution = np.zeros(12)\n",
    "rhs = [y[i] if i<10000 else -y[i-10000] for i in range(rows)]\n",
    "A = np.array(x)\n",
    "A = np.append(A, -A, axis = 0)\n",
    "one_array = np.ones((rows, 1))\n",
    "A = np.column_stack((one_array, A))\n",
    "one_array[10000:] = -one_array[10000:]\n",
    "A = np.column_stack((A, one_array))\n",
    "\n",
    "\n",
    "lp_optimize(rows, cols, c, obj_sense, A, sense, rhs, lb, ub, vtype,\n",
    "                   solution)\n",
    "\n",
    "print(\"omega:\")\n",
    "print(solution[2:])"
   ]
  },
  {
   "cell_type": "code",
   "execution_count": 2,
   "metadata": {},
   "outputs": [
    {
     "name": "stdout",
     "output_type": "stream",
     "text": [
      "Academic license - for non-commercial use only\n",
      "Optimize a model with 12 rows, 20000 columns and 237130 nonzeros\n",
      "Coefficient statistics:\n",
      "  Matrix range     [1e+00, 1e+02]\n",
      "  Objective range  [6e+00, 2e+04]\n",
      "  Bounds range     [0e+00, 0e+00]\n",
      "  RHS range        [1e+00, 1e+00]\n",
      "\n",
      "Concurrent LP optimizer: dual simplex and barrier\n",
      "Showing barrier log only...\n",
      "\n",
      "Presolve time: 0.14s\n",
      "Presolved: 12 rows, 20000 columns, 237130 nonzeros\n",
      "\n",
      "Ordering time: 0.00s\n",
      "\n",
      "Barrier statistics:\n",
      " AA' NZ     : 6.600e+01\n",
      " Factor NZ  : 7.800e+01 (roughly 8 MBytes of memory)\n",
      " Factor Ops : 6.500e+02 (less than 1 second per iteration)\n",
      " Threads    : 3\n",
      "\n",
      "                  Objective                Residual\n",
      "Iter       Primal          Dual         Primal    Dual     Compl     Time\n",
      "   0  -1.06128439e-11 -0.00000000e+00  6.71e+02 1.25e+01  2.24e+01     0s\n",
      "   1  -9.71320339e-02  2.69592814e+03  5.76e+01 9.09e-13  2.08e+00     0s\n",
      "   2  -3.43338972e-03  2.35891883e+03  1.44e-13 8.53e-13  1.18e-01     0s\n",
      "   3   4.17163341e-03  1.59594708e+02  6.98e-15 7.39e-13  7.98e-03     0s\n",
      "\n",
      "Barrier performed 3 iterations in 0.25 seconds\n",
      "Barrier solve interrupted - model solved by another algorithm\n",
      "\n",
      "\n",
      "Solved with dual simplex\n",
      "Solved in 50 iterations and 0.26 seconds\n",
      "Optimal objective  5.000000000e+01\n"
     ]
    },
    {
     "data": {
      "text/plain": [
       "True"
      ]
     },
     "execution_count": 2,
     "metadata": {},
     "output_type": "execute_result"
    }
   ],
   "source": [
    "#Dual\n",
    "rows = 12\n",
    "cols = 20000\n",
    "c = np.append(y,-y)\n",
    "obj_sense = GRB.MAXIMIZE\n",
    "rhs = [0]*11+[1]\n",
    "lb = [0]*20000\n",
    "ub = [GRB.INFINITY]*20000\n",
    "vtype = [GRB.CONTINUOUS]*20000\n",
    "A = (np.column_stack((x, -np.ones(10000)))).T\n",
    "A = np.column_stack((A, -A))\n",
    "A = np.row_stack((A, np.ones(20000)))\n",
    "sense = [GRB.EQUAL]*11+[GRB.LESS_EQUAL]\n",
    "solution = [0]*20000\n",
    "lp_optimize(rows, cols, c, obj_sense, A, sense, rhs, lb, ub, vtype,\n",
    "                   solution)"
   ]
  },
  {
   "cell_type": "markdown",
   "metadata": {},
   "source": [
    "# $$2.\\quad min \\quad Σ |y_i −w_Tx_i −b|$$"
   ]
  },
  {
   "cell_type": "code",
   "execution_count": 12,
   "metadata": {},
   "outputs": [
    {
     "name": "stdout",
     "output_type": "stream",
     "text": [
      "Optimize a model with 10000 rows, 20011 columns and 128565 nonzeros\n",
      "Coefficient statistics:\n",
      "  Matrix range     [1e+00, 1e+02]\n",
      "  Objective range  [1e+00, 1e+00]\n",
      "  Bounds range     [0e+00, 0e+00]\n",
      "  RHS range        [6e+00, 2e+04]\n",
      "\n",
      "Concurrent LP optimizer: dual simplex and barrier\n",
      "Showing barrier log only...\n",
      "\n",
      "Presolve time: 0.09s\n",
      "Presolved: 10000 rows, 20011 columns, 128565 nonzeros\n",
      "\n",
      "Ordering time: 0.00s\n",
      "\n",
      "Barrier statistics:\n",
      " Dense cols : 11\n",
      " Free vars  : 11\n",
      " AA' NZ     : 1.086e+05\n",
      " Factor NZ  : 1.186e+05 (roughly 13 MBytes of memory)\n",
      " Factor Ops : 1.408e+06 (less than 1 second per iteration)\n",
      " Threads    : 3\n",
      "\n",
      "Barrier performed 0 iterations in 0.13 seconds\n",
      "Barrier solve interrupted - model solved by another algorithm\n",
      "\n",
      "\n",
      "Solved with dual simplex\n",
      "Solved in 30 iterations and 0.13 seconds\n",
      "Optimal objective  1.000000000e+03\n",
      "omega and b:\n",
      "[ -9.   0. -12.  28. -25.   6.  21.  64.  36. 100. -27.]\n"
     ]
    }
   ],
   "source": [
    "# Primal\n",
    "cols = 20011\n",
    "lb = [0]*20000+[-GRB.INFINITY]*11\n",
    "ub = [GRB.INFINITY]*20011\n",
    "rows = 10000\n",
    "rhs = y\n",
    "A = np.column_stack((np.eye(10000),-np.eye(10000),x,-np.ones(10000)))\n",
    "c = [1]*20000+[0]*11\n",
    "sense = [GRB.EQUAL]*10000\n",
    "obj_sense = GRB.MINIMIZE\n",
    "vtype = [GRB.CONTINUOUS]*20011\n",
    "solution = np.zeros(20011)\n",
    "lp_optimize(rows, cols, c, obj_sense, A, sense, rhs, lb, ub, vtype,\n",
    "                   solution)\n",
    "print(\"omega and b:\")\n",
    "print(solution[20000:len(solution)])"
   ]
  },
  {
   "cell_type": "code",
   "execution_count": 17,
   "metadata": {},
   "outputs": [
    {
     "name": "stdout",
     "output_type": "stream",
     "text": [
      "Optimize a model with 11 rows, 10000 columns and 108565 nonzeros\n",
      "Coefficient statistics:\n",
      "  Matrix range     [1e+00, 1e+02]\n",
      "  Objective range  [6e+00, 2e+04]\n",
      "  Bounds range     [1e+00, 1e+00]\n",
      "  RHS range        [0e+00, 0e+00]\n",
      "\n",
      "Concurrent LP optimizer: dual simplex and barrier\n",
      "Showing barrier log only...\n",
      "\n",
      "Presolve time: 0.05s\n",
      "Presolved: 11 rows, 10000 columns, 108565 nonzeros\n",
      "\n",
      "Ordering time: 0.00s\n",
      "\n",
      "Barrier statistics:\n",
      " AA' NZ     : 5.500e+01\n",
      " Factor NZ  : 6.600e+01 (roughly 4 MBytes of memory)\n",
      " Factor Ops : 5.060e+02 (less than 1 second per iteration)\n",
      " Threads    : 3\n",
      "\n",
      "                  Objective                Residual\n",
      "Iter       Primal          Dual         Primal    Dual     Compl     Time\n",
      "   0   4.60449233e+05  4.20598370e+07  2.23e+04 2.84e-14  3.15e+03     0s\n",
      "   1   4.46315274e+01  4.83933163e+06  5.92e-09 6.25e-13  2.42e+02     0s\n",
      "   2   5.28051237e+02  1.75809434e+05  6.55e-11 6.68e-13  8.76e+00     0s\n",
      "   3   9.99472699e+02  2.10455105e+03  2.04e-10 6.49e-13  5.53e-02     0s\n",
      "   4   9.99999473e+02  1.00110455e+03  8.00e-11 6.20e-13  5.53e-05     0s\n",
      "   5   9.99999999e+02  1.00000110e+03  1.38e-10 5.58e-13  5.53e-08     0s\n",
      "   6   1.00000000e+03  1.00000000e+03  9.46e-11 3.75e-13  5.53e-11     0s\n",
      "\n",
      "Barrier solved model in 6 iterations and 0.11 seconds\n",
      "Optimal objective 1.00000000e+03\n",
      "\n",
      "Crossover log...\n",
      "\n",
      "       1 DPushes remaining with DInf 0.0000000e+00                 0s\n",
      "       0 DPushes remaining with DInf 9.9342756e-13                 0s\n",
      "\n",
      "    9979 PPushes remaining with PInf 0.0000000e+00                 0s\n",
      "\n",
      "Solved with dual simplex\n",
      "Solved in 107 iterations and 0.14 seconds\n",
      "Optimal objective  1.000000000e+03\n"
     ]
    },
    {
     "data": {
      "text/plain": [
       "True"
      ]
     },
     "execution_count": 17,
     "metadata": {},
     "output_type": "execute_result"
    }
   ],
   "source": [
    "#Dual\n",
    "rows = 11\n",
    "cols = 10000\n",
    "c = y\n",
    "obj_sense = GRB.MAXIMIZE\n",
    "rhs = [0]*10000\n",
    "lb = [-1]*10000\n",
    "ub = [1]*10000\n",
    "vtype = [GRB.CONTINUOUS]*10000\n",
    "A = (np.column_stack((x, -np.ones(10000)))).T\n",
    "sense = [GRB.EQUAL]*11\n",
    "solution = [0]*10000\n",
    "lp_optimize(rows, cols, c, obj_sense, A, sense, rhs, lb, ub, vtype,\n",
    "                   solution)"
   ]
  },
  {
   "cell_type": "markdown",
   "metadata": {},
   "source": [
    "# $$ 3. \\quad Conclusion:$$\n",
    "    In part(b), dual(0.19s) is faster than the primal(0.22s)"
   ]
  }
 ],
 "metadata": {
  "kernelspec": {
   "display_name": "Python 3",
   "language": "python",
   "name": "python3"
  },
  "language_info": {
   "codemirror_mode": {
    "name": "ipython",
    "version": 3
   },
   "file_extension": ".py",
   "mimetype": "text/x-python",
   "name": "python",
   "nbconvert_exporter": "python",
   "pygments_lexer": "ipython3",
   "version": "3.7.0"
  }
 },
 "nbformat": 4,
 "nbformat_minor": 2
}
