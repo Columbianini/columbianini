{
  "nbformat": 4,
  "nbformat_minor": 0,
  "metadata": {
    "colab": {
      "name": "Maximum Drawdown.ipynb",
      "provenance": [],
      "include_colab_link": true
    },
    "kernelspec": {
      "name": "python3",
      "display_name": "Python 3"
    }
  },
  "cells": [
    {
      "cell_type": "markdown",
      "metadata": {
        "id": "view-in-github",
        "colab_type": "text"
      },
      "source": [
        "<a href=\"https://colab.research.google.com/github/Columbianini/columbianini/blob/master/Maximum_Drawdown.ipynb\" target=\"_parent\"><img src=\"https://colab.research.google.com/assets/colab-badge.svg\" alt=\"Open In Colab\"/></a>"
      ]
    },
    {
      "cell_type": "markdown",
      "metadata": {
        "id": "LxLX1c8zu-Oa",
        "colab_type": "text"
      },
      "source": [
        "# Maximum Drawdown\n",
        "Maximum the largest absolute loss instead of the largest return\n",
        "\n",
        "Buy at a peak and sell it at the vallay."
      ]
    },
    {
      "cell_type": "code",
      "metadata": {
        "id": "zBMm8mWVsEfs",
        "colab_type": "code",
        "colab": {}
      },
      "source": [
        "import numpy as np\n",
        "import pandas as pd"
      ],
      "execution_count": 0,
      "outputs": []
    },
    {
      "cell_type": "code",
      "metadata": {
        "id": "g7SdLH-Mulap",
        "colab_type": "code",
        "colab": {
          "base_uri": "https://localhost:8080/",
          "height": 179
        },
        "outputId": "fb571d8b-5f41-4a26-c095-f6b2dbbb9742"
      },
      "source": [
        "def max_drawdown(timeseries):\n",
        "    # 回撤结束时间点\n",
        "    i = np.argmax(np.maximum.accumulate(timeseries) - timeseries)\n",
        "    # 回撤开始的时间点\n",
        "    j = np.argmax(timeseries[:i])\n",
        "    return (float(timeseries[i]) / timeseries[j]) - 1.\n",
        "\n",
        "max_drawdown(price_series[\"Price\"])"
      ],
      "execution_count": 18,
      "outputs": [
        {
          "output_type": "stream",
          "text": [
            "/usr/local/lib/python3.6/dist-packages/numpy/core/fromnumeric.py:61: FutureWarning: \n",
            "The current behaviour of 'Series.argmax' is deprecated, use 'idxmax'\n",
            "instead.\n",
            "The behavior of 'argmax' will be corrected to return the positional\n",
            "maximum in the future. For now, use 'series.values.argmax' or\n",
            "'np.argmax(np.array(values))' to get the position of the maximum\n",
            "row.\n",
            "  return bound(*args, **kwds)\n"
          ],
          "name": "stderr"
        },
        {
          "output_type": "execute_result",
          "data": {
            "text/plain": [
              "-1.4091261464375209"
            ]
          },
          "metadata": {
            "tags": []
          },
          "execution_count": 18
        }
      ]
    }
  ]
}